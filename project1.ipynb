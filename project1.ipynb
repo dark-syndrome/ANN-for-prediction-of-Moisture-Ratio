{
  "nbformat": 4,
  "nbformat_minor": 0,
  "metadata": {
    "colab": {
      "name": "test1ofmajorProject.ipynb",
      "provenance": [],
      "collapsed_sections": []
    },
    "kernelspec": {
      "name": "python3",
      "display_name": "Python 3"
    }
  },
  "cells": [
    {
      "cell_type": "markdown",
      "metadata": {
        "id": "JLnE8cShGsQY",
        "colab_type": "text"
      },
      "source": [
        "\"This project is a deep learning neural network designed to predict the Moisture ratio with given input parameters such as operational power, initial moisture content, diffusivity, Biot number, and mass transfer coefficient.\"\n",
        "\n",
        "The code has been adopted from the video of TensorFlow on regression to find MPL of various cars based on various parameters. And has been modified accordingly to be used in the above mentioned case."
      ]
    },
    {
      "cell_type": "code",
      "metadata": {
        "id": "VJdJnq8nkcum",
        "colab_type": "code",
        "outputId": "8b799efe-ae3b-479d-80bf-9536efabb4d2",
        "colab": {
          "base_uri": "https://localhost:8080/",
          "height": 87
        }
      },
      "source": [
        "from __future__ import absolute_import, division, print_function\n",
        "\n",
        "import pathlib\n",
        "import pandas as pd\n",
        "import seaborn as sns\n",
        "\n",
        "import tensorflow as tf\n",
        "from tensorflow import keras\n",
        "from tensorflow.keras import layers\n",
        "\n",
        "data = pd.read_csv('datanew.csv')\n",
        "print(tf.__version__)"
      ],
      "execution_count": 0,
      "outputs": [
        {
          "output_type": "stream",
          "text": [
            "/usr/local/lib/python3.6/dist-packages/statsmodels/tools/_testing.py:19: FutureWarning: pandas.util.testing is deprecated. Use the functions in the public API at pandas.testing instead.\n",
            "  import pandas.util.testing as tm\n"
          ],
          "name": "stderr"
        },
        {
          "output_type": "stream",
          "text": [
            "2.2.0-rc3\n"
          ],
          "name": "stdout"
        }
      ]
    },
    {
      "cell_type": "code",
      "metadata": {
        "id": "17IQhY0nOBZT",
        "colab_type": "code",
        "outputId": "47ef02eb-aabb-4b7f-9c21-eb5605d4e5f7",
        "colab": {
          "base_uri": "https://localhost:8080/",
          "height": 402
        }
      },
      "source": [
        "data"
      ],
      "execution_count": 0,
      "outputs": [
        {
          "output_type": "execute_result",
          "data": {
            "text/html": [
              "<div>\n",
              "<style scoped>\n",
              "    .dataframe tbody tr th:only-of-type {\n",
              "        vertical-align: middle;\n",
              "    }\n",
              "\n",
              "    .dataframe tbody tr th {\n",
              "        vertical-align: top;\n",
              "    }\n",
              "\n",
              "    .dataframe thead th {\n",
              "        text-align: right;\n",
              "    }\n",
              "</style>\n",
              "<table border=\"1\" class=\"dataframe\">\n",
              "  <thead>\n",
              "    <tr style=\"text-align: right;\">\n",
              "      <th></th>\n",
              "      <th>TIME</th>\n",
              "      <th>POWER</th>\n",
              "      <th>MOISTURE CONTENT (INITIAL)</th>\n",
              "      <th>DIFFUSIVITY</th>\n",
              "      <th>MASS TRANSFER COEFFECIENT</th>\n",
              "      <th>BIOT NUMBER</th>\n",
              "      <th>MOISTURE RATIO</th>\n",
              "    </tr>\n",
              "  </thead>\n",
              "  <tbody>\n",
              "    <tr>\n",
              "      <th>0</th>\n",
              "      <td>0</td>\n",
              "      <td>180</td>\n",
              "      <td>86.05</td>\n",
              "      <td>2.530000e-09</td>\n",
              "      <td>0.001</td>\n",
              "      <td>986.0</td>\n",
              "      <td>1.000000</td>\n",
              "    </tr>\n",
              "    <tr>\n",
              "      <th>1</th>\n",
              "      <td>10</td>\n",
              "      <td>180</td>\n",
              "      <td>86.05</td>\n",
              "      <td>2.530000e-09</td>\n",
              "      <td>0.001</td>\n",
              "      <td>986.0</td>\n",
              "      <td>0.996939</td>\n",
              "    </tr>\n",
              "    <tr>\n",
              "      <th>2</th>\n",
              "      <td>20</td>\n",
              "      <td>180</td>\n",
              "      <td>86.05</td>\n",
              "      <td>2.530000e-09</td>\n",
              "      <td>0.001</td>\n",
              "      <td>986.0</td>\n",
              "      <td>0.991582</td>\n",
              "    </tr>\n",
              "    <tr>\n",
              "      <th>3</th>\n",
              "      <td>30</td>\n",
              "      <td>180</td>\n",
              "      <td>86.05</td>\n",
              "      <td>2.530000e-09</td>\n",
              "      <td>0.001</td>\n",
              "      <td>986.0</td>\n",
              "      <td>0.983546</td>\n",
              "    </tr>\n",
              "    <tr>\n",
              "      <th>4</th>\n",
              "      <td>40</td>\n",
              "      <td>180</td>\n",
              "      <td>86.05</td>\n",
              "      <td>2.530000e-09</td>\n",
              "      <td>0.001</td>\n",
              "      <td>986.0</td>\n",
              "      <td>0.972449</td>\n",
              "    </tr>\n",
              "    <tr>\n",
              "      <th>...</th>\n",
              "      <td>...</td>\n",
              "      <td>...</td>\n",
              "      <td>...</td>\n",
              "      <td>...</td>\n",
              "      <td>...</td>\n",
              "      <td>...</td>\n",
              "      <td>...</td>\n",
              "    </tr>\n",
              "    <tr>\n",
              "      <th>112</th>\n",
              "      <td>360</td>\n",
              "      <td>900</td>\n",
              "      <td>86.05</td>\n",
              "      <td>1.520000e-08</td>\n",
              "      <td>0.014</td>\n",
              "      <td>2300.0</td>\n",
              "      <td>0.051888</td>\n",
              "    </tr>\n",
              "    <tr>\n",
              "      <th>113</th>\n",
              "      <td>420</td>\n",
              "      <td>900</td>\n",
              "      <td>86.05</td>\n",
              "      <td>1.520000e-08</td>\n",
              "      <td>0.014</td>\n",
              "      <td>2300.0</td>\n",
              "      <td>0.035456</td>\n",
              "    </tr>\n",
              "    <tr>\n",
              "      <th>114</th>\n",
              "      <td>480</td>\n",
              "      <td>900</td>\n",
              "      <td>86.05</td>\n",
              "      <td>1.520000e-08</td>\n",
              "      <td>0.014</td>\n",
              "      <td>2300.0</td>\n",
              "      <td>0.025902</td>\n",
              "    </tr>\n",
              "    <tr>\n",
              "      <th>115</th>\n",
              "      <td>540</td>\n",
              "      <td>900</td>\n",
              "      <td>86.05</td>\n",
              "      <td>1.520000e-08</td>\n",
              "      <td>0.014</td>\n",
              "      <td>2300.0</td>\n",
              "      <td>0.021316</td>\n",
              "    </tr>\n",
              "    <tr>\n",
              "      <th>116</th>\n",
              "      <td>600</td>\n",
              "      <td>900</td>\n",
              "      <td>86.05</td>\n",
              "      <td>1.520000e-08</td>\n",
              "      <td>0.014</td>\n",
              "      <td>2300.0</td>\n",
              "      <td>0.020934</td>\n",
              "    </tr>\n",
              "  </tbody>\n",
              "</table>\n",
              "<p>117 rows × 7 columns</p>\n",
              "</div>"
            ],
            "text/plain": [
              "     TIME  POWER  ...  BIOT NUMBER  MOISTURE RATIO\n",
              "0       0    180  ...        986.0        1.000000\n",
              "1      10    180  ...        986.0        0.996939\n",
              "2      20    180  ...        986.0        0.991582\n",
              "3      30    180  ...        986.0        0.983546\n",
              "4      40    180  ...        986.0        0.972449\n",
              "..    ...    ...  ...          ...             ...\n",
              "112   360    900  ...       2300.0        0.051888\n",
              "113   420    900  ...       2300.0        0.035456\n",
              "114   480    900  ...       2300.0        0.025902\n",
              "115   540    900  ...       2300.0        0.021316\n",
              "116   600    900  ...       2300.0        0.020934\n",
              "\n",
              "[117 rows x 7 columns]"
            ]
          },
          "metadata": {
            "tags": []
          },
          "execution_count": 2
        }
      ]
    },
    {
      "cell_type": "code",
      "metadata": {
        "id": "oCQQyTnbPK95",
        "colab_type": "code",
        "outputId": "c39f6d19-ee19-4855-897d-7ed0eaca19ee",
        "colab": {
          "base_uri": "https://localhost:8080/",
          "height": 151
        }
      },
      "source": [
        "#Cleaning data\n",
        "data.isna().sum()"
      ],
      "execution_count": 0,
      "outputs": [
        {
          "output_type": "execute_result",
          "data": {
            "text/plain": [
              "TIME                          0\n",
              "POWER                         0\n",
              "MOISTURE CONTENT (INITIAL)    0\n",
              "DIFFUSIVITY                   0\n",
              "MASS TRANSFER COEFFECIENT     0\n",
              "BIOT NUMBER                   0\n",
              "MOISTURE RATIO                0\n",
              "dtype: int64"
            ]
          },
          "metadata": {
            "tags": []
          },
          "execution_count": 112
        }
      ]
    },
    {
      "cell_type": "code",
      "metadata": {
        "id": "1gYiSGq1Po30",
        "colab_type": "code",
        "outputId": "484c15bd-8b93-4a04-815d-57db0f428ee2",
        "colab": {
          "base_uri": "https://localhost:8080/",
          "height": 402
        }
      },
      "source": [
        "data.dropna()"
      ],
      "execution_count": 0,
      "outputs": [
        {
          "output_type": "execute_result",
          "data": {
            "text/html": [
              "<div>\n",
              "<style scoped>\n",
              "    .dataframe tbody tr th:only-of-type {\n",
              "        vertical-align: middle;\n",
              "    }\n",
              "\n",
              "    .dataframe tbody tr th {\n",
              "        vertical-align: top;\n",
              "    }\n",
              "\n",
              "    .dataframe thead th {\n",
              "        text-align: right;\n",
              "    }\n",
              "</style>\n",
              "<table border=\"1\" class=\"dataframe\">\n",
              "  <thead>\n",
              "    <tr style=\"text-align: right;\">\n",
              "      <th></th>\n",
              "      <th>TIME</th>\n",
              "      <th>POWER</th>\n",
              "      <th>MOISTURE CONTENT (INITIAL)</th>\n",
              "      <th>DIFFUSIVITY</th>\n",
              "      <th>MASS TRANSFER COEFFECIENT</th>\n",
              "      <th>BIOT NUMBER</th>\n",
              "      <th>MOISTURE RATIO</th>\n",
              "    </tr>\n",
              "  </thead>\n",
              "  <tbody>\n",
              "    <tr>\n",
              "      <th>0</th>\n",
              "      <td>0</td>\n",
              "      <td>180</td>\n",
              "      <td>86.05</td>\n",
              "      <td>2.530000e-09</td>\n",
              "      <td>0.001</td>\n",
              "      <td>986.0</td>\n",
              "      <td>1.000000</td>\n",
              "    </tr>\n",
              "    <tr>\n",
              "      <th>1</th>\n",
              "      <td>10</td>\n",
              "      <td>180</td>\n",
              "      <td>86.05</td>\n",
              "      <td>2.530000e-09</td>\n",
              "      <td>0.001</td>\n",
              "      <td>986.0</td>\n",
              "      <td>0.996939</td>\n",
              "    </tr>\n",
              "    <tr>\n",
              "      <th>2</th>\n",
              "      <td>20</td>\n",
              "      <td>180</td>\n",
              "      <td>86.05</td>\n",
              "      <td>2.530000e-09</td>\n",
              "      <td>0.001</td>\n",
              "      <td>986.0</td>\n",
              "      <td>0.991582</td>\n",
              "    </tr>\n",
              "    <tr>\n",
              "      <th>3</th>\n",
              "      <td>30</td>\n",
              "      <td>180</td>\n",
              "      <td>86.05</td>\n",
              "      <td>2.530000e-09</td>\n",
              "      <td>0.001</td>\n",
              "      <td>986.0</td>\n",
              "      <td>0.983546</td>\n",
              "    </tr>\n",
              "    <tr>\n",
              "      <th>4</th>\n",
              "      <td>40</td>\n",
              "      <td>180</td>\n",
              "      <td>86.05</td>\n",
              "      <td>2.530000e-09</td>\n",
              "      <td>0.001</td>\n",
              "      <td>986.0</td>\n",
              "      <td>0.972449</td>\n",
              "    </tr>\n",
              "    <tr>\n",
              "      <th>...</th>\n",
              "      <td>...</td>\n",
              "      <td>...</td>\n",
              "      <td>...</td>\n",
              "      <td>...</td>\n",
              "      <td>...</td>\n",
              "      <td>...</td>\n",
              "      <td>...</td>\n",
              "    </tr>\n",
              "    <tr>\n",
              "      <th>112</th>\n",
              "      <td>360</td>\n",
              "      <td>900</td>\n",
              "      <td>86.05</td>\n",
              "      <td>1.520000e-08</td>\n",
              "      <td>0.014</td>\n",
              "      <td>2300.0</td>\n",
              "      <td>0.051888</td>\n",
              "    </tr>\n",
              "    <tr>\n",
              "      <th>113</th>\n",
              "      <td>420</td>\n",
              "      <td>900</td>\n",
              "      <td>86.05</td>\n",
              "      <td>1.520000e-08</td>\n",
              "      <td>0.014</td>\n",
              "      <td>2300.0</td>\n",
              "      <td>0.035456</td>\n",
              "    </tr>\n",
              "    <tr>\n",
              "      <th>114</th>\n",
              "      <td>480</td>\n",
              "      <td>900</td>\n",
              "      <td>86.05</td>\n",
              "      <td>1.520000e-08</td>\n",
              "      <td>0.014</td>\n",
              "      <td>2300.0</td>\n",
              "      <td>0.025902</td>\n",
              "    </tr>\n",
              "    <tr>\n",
              "      <th>115</th>\n",
              "      <td>540</td>\n",
              "      <td>900</td>\n",
              "      <td>86.05</td>\n",
              "      <td>1.520000e-08</td>\n",
              "      <td>0.014</td>\n",
              "      <td>2300.0</td>\n",
              "      <td>0.021316</td>\n",
              "    </tr>\n",
              "    <tr>\n",
              "      <th>116</th>\n",
              "      <td>600</td>\n",
              "      <td>900</td>\n",
              "      <td>86.05</td>\n",
              "      <td>1.520000e-08</td>\n",
              "      <td>0.014</td>\n",
              "      <td>2300.0</td>\n",
              "      <td>0.020934</td>\n",
              "    </tr>\n",
              "  </tbody>\n",
              "</table>\n",
              "<p>117 rows × 7 columns</p>\n",
              "</div>"
            ],
            "text/plain": [
              "     TIME  POWER  ...  BIOT NUMBER  MOISTURE RATIO\n",
              "0       0    180  ...        986.0        1.000000\n",
              "1      10    180  ...        986.0        0.996939\n",
              "2      20    180  ...        986.0        0.991582\n",
              "3      30    180  ...        986.0        0.983546\n",
              "4      40    180  ...        986.0        0.972449\n",
              "..    ...    ...  ...          ...             ...\n",
              "112   360    900  ...       2300.0        0.051888\n",
              "113   420    900  ...       2300.0        0.035456\n",
              "114   480    900  ...       2300.0        0.025902\n",
              "115   540    900  ...       2300.0        0.021316\n",
              "116   600    900  ...       2300.0        0.020934\n",
              "\n",
              "[117 rows x 7 columns]"
            ]
          },
          "metadata": {
            "tags": []
          },
          "execution_count": 113
        }
      ]
    },
    {
      "cell_type": "code",
      "metadata": {
        "id": "AHKPAZ8wPsMv",
        "colab_type": "code",
        "colab": {}
      },
      "source": [
        "train_data = data.sample(frac = 0.8, random_state=0)\n",
        "test_data = data.drop(train_data.index)"
      ],
      "execution_count": 0,
      "outputs": []
    },
    {
      "cell_type": "code",
      "metadata": {
        "id": "t-EzNXfwQi_d",
        "colab_type": "code",
        "outputId": "3a1fae4c-87d5-4bf1-8c3b-0137f14c9b4c",
        "colab": {
          "base_uri": "https://localhost:8080/",
          "height": 1000
        }
      },
      "source": [
        "sns.pairplot(train_data[[\"TIME\", \"POWER\", \"MOISTURE CONTENT (INITIAL)\", \"DIFFUSIVITY\", \"MASS TRANSFER COEFFECIENT\", \"BIOT NUMBER\", \"MOISTURE RATIO\"]], diag_kind=\"kde\", hue =\"POWER\")"
      ],
      "execution_count": 0,
      "outputs": [
        {
          "output_type": "execute_result",
          "data": {
            "text/plain": [
              "<seaborn.axisgrid.PairGrid at 0x7f4d3ffb57f0>"
            ]
          },
          "metadata": {
            "tags": []
          },
          "execution_count": 118
        },
        {
          "output_type": "display_data",
          "data": {
            "image/png": "[encoded data removed]",
            "text/plain": [
              "<Figure size 1135x1080 with 36 Axes>"
            ]
          },
          "metadata": {
            "tags": [],
            "needs_background": "light"
          }
        }
      ]
    },
    {
      "cell_type": "code",
      "metadata": {
        "id": "dCe1Xv5VROQr",
        "colab_type": "code",
        "outputId": "3f6e1346-dfd0-43f5-e6b8-6677eabbc562",
        "colab": {
          "base_uri": "https://localhost:8080/",
          "height": 225
        }
      },
      "source": [
        "train_stats = train_data.describe()\n",
        "train_stats.pop(\"MOISTURE RATIO\")\n",
        "train_stats = train_stats.transpose()\n",
        "train_stats"
      ],
      "execution_count": 0,
      "outputs": [
        {
          "output_type": "execute_result",
          "data": {
            "text/html": [
              "<div>\n",
              "<style scoped>\n",
              "    .dataframe tbody tr th:only-of-type {\n",
              "        vertical-align: middle;\n",
              "    }\n",
              "\n",
              "    .dataframe tbody tr th {\n",
              "        vertical-align: top;\n",
              "    }\n",
              "\n",
              "    .dataframe thead th {\n",
              "        text-align: right;\n",
              "    }\n",
              "</style>\n",
              "<table border=\"1\" class=\"dataframe\">\n",
              "  <thead>\n",
              "    <tr style=\"text-align: right;\">\n",
              "      <th></th>\n",
              "      <th>count</th>\n",
              "      <th>mean</th>\n",
              "      <th>std</th>\n",
              "      <th>min</th>\n",
              "      <th>25%</th>\n",
              "      <th>50%</th>\n",
              "      <th>75%</th>\n",
              "      <th>max</th>\n",
              "    </tr>\n",
              "  </thead>\n",
              "  <tbody>\n",
              "    <tr>\n",
              "      <th>TIME</th>\n",
              "      <td>94.0</td>\n",
              "      <td>5.581915e+02</td>\n",
              "      <td>5.493475e+02</td>\n",
              "      <td>0.000000e+00</td>\n",
              "      <td>1.200000e+02</td>\n",
              "      <td>4.800000e+02</td>\n",
              "      <td>7.800000e+02</td>\n",
              "      <td>2.400000e+03</td>\n",
              "    </tr>\n",
              "    <tr>\n",
              "      <th>POWER</th>\n",
              "      <td>94.0</td>\n",
              "      <td>4.538298e+02</td>\n",
              "      <td>2.514308e+02</td>\n",
              "      <td>1.800000e+02</td>\n",
              "      <td>1.800000e+02</td>\n",
              "      <td>3.600000e+02</td>\n",
              "      <td>7.200000e+02</td>\n",
              "      <td>9.000000e+02</td>\n",
              "    </tr>\n",
              "    <tr>\n",
              "      <th>MOISTURE CONTENT (INITIAL)</th>\n",
              "      <td>94.0</td>\n",
              "      <td>8.605000e+01</td>\n",
              "      <td>1.285835e-13</td>\n",
              "      <td>8.605000e+01</td>\n",
              "      <td>8.605000e+01</td>\n",
              "      <td>8.605000e+01</td>\n",
              "      <td>8.605000e+01</td>\n",
              "      <td>8.605000e+01</td>\n",
              "    </tr>\n",
              "    <tr>\n",
              "      <th>DIFFUSIVITY</th>\n",
              "      <td>94.0</td>\n",
              "      <td>7.920532e-09</td>\n",
              "      <td>5.284473e-09</td>\n",
              "      <td>2.530000e-09</td>\n",
              "      <td>2.530000e-09</td>\n",
              "      <td>4.810000e-09</td>\n",
              "      <td>1.520000e-08</td>\n",
              "      <td>1.540000e-08</td>\n",
              "    </tr>\n",
              "    <tr>\n",
              "      <th>MASS TRANSFER COEFFECIENT</th>\n",
              "      <td>94.0</td>\n",
              "      <td>4.840426e-03</td>\n",
              "      <td>3.968432e-03</td>\n",
              "      <td>1.000000e-03</td>\n",
              "      <td>1.000000e-03</td>\n",
              "      <td>4.000000e-03</td>\n",
              "      <td>7.000000e-03</td>\n",
              "      <td>1.400000e-02</td>\n",
              "    </tr>\n",
              "    <tr>\n",
              "      <th>BIOT NUMBER</th>\n",
              "      <td>94.0</td>\n",
              "      <td>1.441234e+03</td>\n",
              "      <td>5.165722e+02</td>\n",
              "      <td>9.860000e+02</td>\n",
              "      <td>9.860000e+02</td>\n",
              "      <td>1.230000e+03</td>\n",
              "      <td>2.080000e+03</td>\n",
              "      <td>2.300000e+03</td>\n",
              "    </tr>\n",
              "  </tbody>\n",
              "</table>\n",
              "</div>"
            ],
            "text/plain": [
              "                            count          mean  ...           75%           max\n",
              "TIME                         94.0  5.581915e+02  ...  7.800000e+02  2.400000e+03\n",
              "POWER                        94.0  4.538298e+02  ...  7.200000e+02  9.000000e+02\n",
              "MOISTURE CONTENT (INITIAL)   94.0  8.605000e+01  ...  8.605000e+01  8.605000e+01\n",
              "DIFFUSIVITY                  94.0  7.920532e-09  ...  1.520000e-08  1.540000e-08\n",
              "MASS TRANSFER COEFFECIENT    94.0  4.840426e-03  ...  7.000000e-03  1.400000e-02\n",
              "BIOT NUMBER                  94.0  1.441234e+03  ...  2.080000e+03  2.300000e+03\n",
              "\n",
              "[6 rows x 8 columns]"
            ]
          },
          "metadata": {
            "tags": []
          },
          "execution_count": 95
        }
      ]
    },
    {
      "cell_type": "code",
      "metadata": {
        "id": "yvSDta3HSdLS",
        "colab_type": "code",
        "colab": {}
      },
      "source": [
        "train_labels = train_data.pop(\"MOISTURE RATIO\")\n",
        "test_labels = test_data.pop(\"MOISTURE RATIO\")"
      ],
      "execution_count": 0,
      "outputs": []
    },
    {
      "cell_type": "code",
      "metadata": {
        "id": "ZhtND7m8Su3o",
        "colab_type": "code",
        "colab": {}
      },
      "source": [
        "#Now we are going to normalize the data remaining.\n",
        "def norm(x):\n",
        "  return (x - train_stats['mean']) / train_stats['std']\n",
        "\n",
        "normed_train_data = norm(train_data)\n",
        "normed_test_data = norm(test_data)\n",
        "\n",
        "#similarly when we pass new values to this model we need to\n",
        " #  normalize all the input data we are giving\"\"\""
      ],
      "execution_count": 0,
      "outputs": []
    },
    {
      "cell_type": "code",
      "metadata": {
        "id": "h53wwxv4Tsj7",
        "colab_type": "code",
        "colab": {}
      },
      "source": [
        "def build_model():\n",
        "  model = keras.Sequential([\n",
        "    layers.Dense(64, activation=tf.nn.relu, input_shape=[len(train_data.keys())]),\n",
        "    layers.Dense(64, activation= tf.nn.relu),\n",
        "    layers.Dense(1)\n",
        "  ])\n",
        "\n",
        "  optimizer = tf.keras.optimizers.RMSprop(0.0001)\n",
        "\n",
        "  model.compile(loss='mse',\n",
        "                optimizer = optimizer,\n",
        "                metrics = ['mae', 'mse'])\n",
        "  return model"
      ],
      "execution_count": 0,
      "outputs": []
    },
    {
      "cell_type": "code",
      "metadata": {
        "id": "PdLJwxEiWWfe",
        "colab_type": "code",
        "colab": {}
      },
      "source": [
        "model = build_model()"
      ],
      "execution_count": 0,
      "outputs": []
    },
    {
      "cell_type": "code",
      "metadata": {
        "id": "0s93OskbXdAF",
        "colab_type": "code",
        "outputId": "60212521-fa73-4abb-bb65-3f5222566b48",
        "colab": {
          "base_uri": "https://localhost:8080/",
          "height": 252
        }
      },
      "source": [
        "model.summary()"
      ],
      "execution_count": 0,
      "outputs": [
        {
          "output_type": "stream",
          "text": [
            "Model: \"sequential_5\"\n",
            "_________________________________________________________________\n",
            "Layer (type)                 Output Shape              Param #   \n",
            "=================================================================\n",
            "dense_15 (Dense)             (None, 64)                448       \n",
            "_________________________________________________________________\n",
            "dense_16 (Dense)             (None, 64)                4160      \n",
            "_________________________________________________________________\n",
            "dense_17 (Dense)             (None, 1)                 65        \n",
            "=================================================================\n",
            "Total params: 4,673\n",
            "Trainable params: 4,673\n",
            "Non-trainable params: 0\n",
            "_________________________________________________________________\n"
          ],
          "name": "stdout"
        }
      ]
    },
    {
      "cell_type": "code",
      "metadata": {
        "id": "jqsy3QrXXxhZ",
        "colab_type": "code",
        "outputId": "232f5c3d-1b98-4294-929e-1fa0a28d632d",
        "colab": {
          "base_uri": "https://localhost:8080/",
          "height": 185
        }
      },
      "source": [
        "\n",
        "example_batch = normed_train_data[:10]\n",
        "example_result = model.predict(example_batch)\n",
        "print(example_result)"
      ],
      "execution_count": 0,
      "outputs": [
        {
          "output_type": "stream",
          "text": [
            "[[ 5.3571776e-02]\n",
            " [ 3.4698531e-01]\n",
            " [ 1.5132291e-02]\n",
            " [-1.1441922e-04]\n",
            " [ 3.9644805e-03]\n",
            " [-3.7686392e-03]\n",
            " [ 3.3007348e-01]\n",
            " [-3.2066531e-02]\n",
            " [ 1.8684033e-01]\n",
            " [ 8.2714176e-03]]\n"
          ],
          "name": "stdout"
        }
      ]
    },
    {
      "cell_type": "code",
      "metadata": {
        "id": "sPkjZwXKYSEX",
        "colab_type": "code",
        "outputId": "6418fc00-4254-4e36-d1a6-1d45e1187c9a",
        "colab": {
          "base_uri": "https://localhost:8080/",
          "height": 538
        }
      },
      "source": [
        "#Training our model\n",
        "#Display training process by printig one * for each cycle of training\n",
        "class PrintStar(keras.callbacks.Callback):\n",
        "  def on_epoch_end(self, epoch, logs):\n",
        "    if epoch % 100 == 0: print('')\n",
        "    print('*', end='')\n",
        "EPOCHS = 3000\n",
        "\n",
        "history = model.fit(\n",
        "  normed_train_data, train_labels,\n",
        "  epochs = EPOCHS, validation_split = 0.2, verbose=0,\n",
        "  callbacks=[PrintStar()])"
      ],
      "execution_count": 0,
      "outputs": [
        {
          "output_type": "stream",
          "text": [
            "\n",
            "****************************************************************************************************\n",
            "****************************************************************************************************\n",
            "****************************************************************************************************\n",
            "****************************************************************************************************\n",
            "****************************************************************************************************\n",
            "****************************************************************************************************\n",
            "****************************************************************************************************\n",
            "****************************************************************************************************\n",
            "****************************************************************************************************\n",
            "****************************************************************************************************\n",
            "****************************************************************************************************\n",
            "****************************************************************************************************\n",
            "****************************************************************************************************\n",
            "****************************************************************************************************\n",
            "****************************************************************************************************\n",
            "****************************************************************************************************\n",
            "****************************************************************************************************\n",
            "****************************************************************************************************\n",
            "****************************************************************************************************\n",
            "****************************************************************************************************\n",
            "****************************************************************************************************\n",
            "****************************************************************************************************\n",
            "****************************************************************************************************\n",
            "****************************************************************************************************\n",
            "****************************************************************************************************\n",
            "****************************************************************************************************\n",
            "****************************************************************************************************\n",
            "****************************************************************************************************\n",
            "****************************************************************************************************\n",
            "****************************************************************************************************"
          ],
          "name": "stdout"
        }
      ]
    },
    {
      "cell_type": "code",
      "metadata": {
        "id": "QSYSiWPyZ6IW",
        "colab_type": "code",
        "outputId": "0c218c92-efa8-4c33-c606-b7e571500c66",
        "colab": {
          "base_uri": "https://localhost:8080/",
          "height": 195
        }
      },
      "source": [
        "hist = pd.DataFrame(history.history)\n",
        "hist['epoch'] = history.epoch\n",
        "hist.tail()"
      ],
      "execution_count": 0,
      "outputs": [
        {
          "output_type": "execute_result",
          "data": {
            "text/html": [
              "<div>\n",
              "<style scoped>\n",
              "    .dataframe tbody tr th:only-of-type {\n",
              "        vertical-align: middle;\n",
              "    }\n",
              "\n",
              "    .dataframe tbody tr th {\n",
              "        vertical-align: top;\n",
              "    }\n",
              "\n",
              "    .dataframe thead th {\n",
              "        text-align: right;\n",
              "    }\n",
              "</style>\n",
              "<table border=\"1\" class=\"dataframe\">\n",
              "  <thead>\n",
              "    <tr style=\"text-align: right;\">\n",
              "      <th></th>\n",
              "      <th>loss</th>\n",
              "      <th>mae</th>\n",
              "      <th>mse</th>\n",
              "      <th>val_loss</th>\n",
              "      <th>val_mae</th>\n",
              "      <th>val_mse</th>\n",
              "      <th>epoch</th>\n",
              "    </tr>\n",
              "  </thead>\n",
              "  <tbody>\n",
              "    <tr>\n",
              "      <th>2995</th>\n",
              "      <td>0.000108</td>\n",
              "      <td>0.006355</td>\n",
              "      <td>0.000121</td>\n",
              "      <td>0.000146</td>\n",
              "      <td>0.008317</td>\n",
              "      <td>0.000146</td>\n",
              "      <td>2995</td>\n",
              "    </tr>\n",
              "    <tr>\n",
              "      <th>2996</th>\n",
              "      <td>0.000074</td>\n",
              "      <td>0.006045</td>\n",
              "      <td>0.000089</td>\n",
              "      <td>0.000132</td>\n",
              "      <td>0.007563</td>\n",
              "      <td>0.000132</td>\n",
              "      <td>2996</td>\n",
              "    </tr>\n",
              "    <tr>\n",
              "      <th>2997</th>\n",
              "      <td>0.000103</td>\n",
              "      <td>0.006191</td>\n",
              "      <td>0.000111</td>\n",
              "      <td>0.000142</td>\n",
              "      <td>0.007927</td>\n",
              "      <td>0.000142</td>\n",
              "      <td>2997</td>\n",
              "    </tr>\n",
              "    <tr>\n",
              "      <th>2998</th>\n",
              "      <td>0.000071</td>\n",
              "      <td>0.005103</td>\n",
              "      <td>0.000087</td>\n",
              "      <td>0.000142</td>\n",
              "      <td>0.007700</td>\n",
              "      <td>0.000142</td>\n",
              "      <td>2998</td>\n",
              "    </tr>\n",
              "    <tr>\n",
              "      <th>2999</th>\n",
              "      <td>0.000096</td>\n",
              "      <td>0.005906</td>\n",
              "      <td>0.000097</td>\n",
              "      <td>0.000142</td>\n",
              "      <td>0.009044</td>\n",
              "      <td>0.000142</td>\n",
              "      <td>2999</td>\n",
              "    </tr>\n",
              "  </tbody>\n",
              "</table>\n",
              "</div>"
            ],
            "text/plain": [
              "          loss       mae       mse  val_loss   val_mae   val_mse  epoch\n",
              "2995  0.000108  0.006355  0.000121  0.000146  0.008317  0.000146   2995\n",
              "2996  0.000074  0.006045  0.000089  0.000132  0.007563  0.000132   2996\n",
              "2997  0.000103  0.006191  0.000111  0.000142  0.007927  0.000142   2997\n",
              "2998  0.000071  0.005103  0.000087  0.000142  0.007700  0.000142   2998\n",
              "2999  0.000096  0.005906  0.000097  0.000142  0.009044  0.000142   2999"
            ]
          },
          "metadata": {
            "tags": []
          },
          "execution_count": 103
        }
      ]
    },
    {
      "cell_type": "code",
      "metadata": {
        "id": "uhbzbB0napKz",
        "colab_type": "code",
        "outputId": "18ebc278-148b-48d4-d215-25be2a76414c",
        "colab": {
          "base_uri": "https://localhost:8080/",
          "height": 549
        }
      },
      "source": [
        "import matplotlib.pyplot as plt\n",
        "\n",
        "def plot_history(history):\n",
        "  hist = pd.DataFrame(history.history)\n",
        "  hist['epoch'] = history.epoch\n",
        "\n",
        "  plt.figure()\n",
        "  plt.xlabel('Epoch')\n",
        "  plt.ylabel('Mean Abs Error[MOISTURE RATIO]')\n",
        "  plt.plot(hist['epoch'], hist['mae'],\n",
        "           label = 'Train Error')\n",
        "  plt.plot(hist['epoch'], hist['val_mae'],\n",
        "           label = 'validation error')\n",
        "  plt.legend()\n",
        "  plt.ylim([0,1])\n",
        "\n",
        "  plt.figure()\n",
        "  plt.xlabel('Epoch')\n",
        "  plt.ylabel('Mean square Error [$MOISTURE RATIO ^ 2$]')\n",
        "  plt.plot(hist['epoch'], hist['mse'],\n",
        "           label = 'Train Error')\n",
        "  plt.plot(hist['epoch'], hist['val_mse'],\n",
        "           label = 'validation error')\n",
        "  plt.legend()\n",
        "  plt.ylim([0,0.1])\n",
        "\n",
        "plot_history(history)"
      ],
      "execution_count": 0,
      "outputs": [
        {
          "output_type": "display_data",
          "data": {
            "image/png": "[encoded data removed]",
            "text/plain": [
              "<Figure size 432x288 with 1 Axes>"
            ]
          },
          "metadata": {
            "tags": [],
            "needs_background": "light"
          }
        },
        {
          "output_type": "display_data",
          "data": {
            "image/png": "[encoded data removed]",
            "text/plain": [
              "<Figure size 432x288 with 1 Axes>"
            ]
          },
          "metadata": {
            "tags": [],
            "needs_background": "light"
          }
        }
      ]
    },
    {
      "cell_type": "code",
      "metadata": {
        "id": "YZvmmP52dByz",
        "colab_type": "code",
        "colab": {}
      },
      "source": [
        "#model = build_model()\n",
        "\n",
        "#early_stop = keras.callbacks.EarlyStopping(monitor= 'val_loss', patience= 10)\n",
        "\n",
        "##                   validation_split =0.2, verbose=0, callbacks=[early_stop, PrintStar()])\n",
        "\n",
        "#plot_history(history)"
      ],
      "execution_count": 0,
      "outputs": []
    },
    {
      "cell_type": "code",
      "metadata": {
        "id": "eKUc12sOes-d",
        "colab_type": "code",
        "outputId": "779ac551-c29b-4134-f06c-b2b273399eee",
        "colab": {
          "base_uri": "https://localhost:8080/",
          "height": 34
        }
      },
      "source": [
        "loss, mae, mse = model.evaluate(normed_test_data, test_labels, verbose=0)\n",
        "print(\"Testing set Mean Abs Error: {} MOISTURE RATIO\".format(mae))"
      ],
      "execution_count": 0,
      "outputs": [
        {
          "output_type": "stream",
          "text": [
            "Testing set Mean Abs Error: 0.013327399268746376 MOISTURE RATIO\n"
          ],
          "name": "stdout"
        }
      ]
    },
    {
      "cell_type": "code",
      "metadata": {
        "id": "iOt5qyq-fXqh",
        "colab_type": "code",
        "outputId": "f3efb683-16e0-4814-dd49-c504ff0ed651",
        "colab": {
          "base_uri": "https://localhost:8080/",
          "height": 279
        }
      },
      "source": [
        "#Finally I am demonstrating the predictions here\n",
        "\n",
        "test_predictions = model.predict(normed_test_data).flatten()\n",
        "\n",
        "plt.scatter(test_labels, test_predictions)\n",
        "plt.xlabel('True values [MOISTURE RATIO]')\n",
        "plt.ylabel('Predictions [MOISTURE RATIO]')\n",
        "plt.axis('equal')\n",
        "plt.axis('square')\n",
        "plt.xlim([0,plt.xlim()[1]])\n",
        "plt.ylim([0,plt.ylim()[1]])\n",
        "_ = plt.plot([-100, 100], [-100, 100])"
      ],
      "execution_count": 0,
      "outputs": [
        {
          "output_type": "display_data",
          "data": {
            "image/png": "[encoded data removed]",
            "text/plain": [
              "<Figure size 432x288 with 1 Axes>"
            ]
          },
          "metadata": {
            "tags": [],
            "needs_background": "light"
          }
        }
      ]
    },
    {
      "cell_type": "code",
      "metadata": {
        "id": "gCcjsUNQhMqG",
        "colab_type": "code",
        "outputId": "c08583ed-cfa2-4f8b-da17-e8f35d7f2885",
        "colab": {
          "base_uri": "https://localhost:8080/",
          "height": 279
        }
      },
      "source": [
        "\n",
        "error = test_predictions - test_labels\n",
        "plt.hist(error, bins =25)\n",
        "plt.xlabel(\"Prediction error of MOISTURE RATIO\")\n",
        "_ = plt.ylabel(\"count\")"
      ],
      "execution_count": 0,
      "outputs": [
        {
          "output_type": "display_data",
          "data": {
            "image/png": "[encoded data removed]",
            "text/plain": [
              "<Figure size 432x288 with 1 Axes>"
            ]
          },
          "metadata": {
            "tags": [],
            "needs_background": "light"
          }
        }
      ]
    },
    {
      "cell_type": "code",
      "metadata": {
        "id": "JeYw6y_wNChv",
        "colab_type": "code",
        "colab": {}
      },
      "source": [
        ""
      ],
      "execution_count": 0,
      "outputs": []
    }
  ]
}